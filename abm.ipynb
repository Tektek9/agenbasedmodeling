{
 "cells": [
  {
   "cell_type": "code",
   "execution_count": null,
   "id": "00b7b652",
   "metadata": {},
   "outputs": [],
   "source": [
    "#Library yang digunakan\n",
    "import pandas as pd\n",
    "from mesa import Agent, Model\n",
    "from mesa.time import RandomActivation\n",
    "import matplotlib.pyplot as plt\n",
    "import os\n",
    "import numpy as np"
   ]
  },
  {
   "cell_type": "code",
   "execution_count": null,
   "id": "854efa3d",
   "metadata": {},
   "outputs": [],
   "source": [
    "#Membuat Data\n",
    "jumData = 1000\n",
    "np.random.seed(42) \n",
    "data = {\n",
    "    'Agen_ID': range(1, jumData + 1), #Agen_ID sejumlah nilai yang sudah diinputkan\n",
    "    'Umur': np.random.randint(20, 70, size=jumData),  # Umur antara 20 dan 69 tahun\n",
    "    'Pendapatan': np.random.randint(1000000, 30000000, size=jumData)  # Pendapatan antara 1 juta dan 30 juta\n",
    "}\n",
    "\n",
    "df = pd.DataFrame(data)\n",
    "dir=os.getcwd()\n",
    "nf=\"mydata.xlsx\"\n",
    "file = os.path.join(dir, nf)\n",
    "df.to_excel(file, index=False)\n",
    "print(f\"\\nFile {nf} dengan jumlah data {jumData} telah dibuat\\n\")"
   ]
  },
  {
   "cell_type": "code",
   "execution_count": null,
   "id": "4f4ff4c5",
   "metadata": {},
   "outputs": [],
   "source": [
    "#Proses pembuatan grafik berdasarkan data yang telah dibuat\n",
    "step=100\n",
    "\n",
    "class AgentData:\n",
    "    def __init__(self, agent_id, age, income):\n",
    "        self.agent_id = agent_id\n",
    "        self.age = age\n",
    "        self.income = income\n",
    "\n",
    "class MyAgent(Agent):\n",
    "    def __init__(self, unique_id, model, data):\n",
    "        super().__init__(unique_id, model)\n",
    "        self.data = data\n",
    "\n",
    "    @property\n",
    "    def age(self):\n",
    "        return self.data.age\n",
    "\n",
    "    @property\n",
    "    def income(self):\n",
    "        return self.data.income\n",
    "\n",
    "class MyModel(Model):\n",
    "    def __init__(self, agent_data):\n",
    "        super().__init__()\n",
    "        self.schedule = RandomActivation(self)\n",
    "        self.steps = 0\n",
    "\n",
    "        for data_row in agent_data:\n",
    "            agent = MyAgent(data_row.agent_id, self, data_row)\n",
    "            self.schedule.add(agent)\n",
    "\n",
    "    def step(self):\n",
    "        self.schedule.step()\n",
    "        self.steps += 1\n",
    "\n",
    "    def __str__(self):\n",
    "        return f\"Dengan {len(self.schedule.agents)} agen dan {self.steps} langkah\"\n",
    "\n",
    "agent_data_df = pd.read_excel(file)\n",
    "model = MyModel(agent_data)\n",
    "for i in range(step):\n",
    "    model.step()\n",
    "\n",
    "agent_ages = [agent.age for agent in model.schedule.agents]\n",
    "agent_incomes = [agent.income for agent in model.schedule.agents]\n",
    "agent_data = [AgentData(row['Agen_ID'], row['Umur'], row['Pendapatan']) for idx, row in agent_data_df.iterrows()]\n",
    "plt.figure(figsize=(8, 6))\n",
    "plt.scatter(agent_ages, agent_incomes, alpha=0.5, color='blue')\n",
    "plt.xlabel('Umur')\n",
    "plt.ylabel('Pendapatan')\n",
    "plt.title(f'Agent Based Modeling\\nUmur vs Pendapatan\\n{model}')\n",
    "plt.grid(True)\n",
    "plt.show()"
   ]
  }
 ],
 "metadata": {
  "kernelspec": {
   "display_name": "Python 3 (ipykernel)",
   "language": "python",
   "name": "python3"
  },
  "language_info": {
   "codemirror_mode": {
    "name": "ipython",
    "version": 3
   },
   "file_extension": ".py",
   "mimetype": "text/x-python",
   "name": "python",
   "nbconvert_exporter": "python",
   "pygments_lexer": "ipython3",
   "version": "3.11.5"
  }
 },
 "nbformat": 4,
 "nbformat_minor": 5
}
